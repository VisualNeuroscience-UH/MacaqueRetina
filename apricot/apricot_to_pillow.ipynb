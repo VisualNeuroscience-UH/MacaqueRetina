{
 "cells": [
  {
   "cell_type": "markdown",
   "metadata": {},
   "source": [
    "# 2. Apricot dataset -> Pillow's format"
   ]
  },
  {
   "cell_type": "markdown",
   "metadata": {},
   "source": [
    "Here we manipulate the apricot dataset into a more concise form (\"Pillow's format\")"
   ]
  },
  {
   "cell_type": "code",
   "execution_count": 1,
   "metadata": {},
   "outputs": [
    {
     "data": {
      "text/plain": [
       "94"
      ]
     },
     "execution_count": 1,
     "metadata": {},
     "output_type": "execute_result"
    }
   ],
   "source": [
    "%matplotlib inline\n",
    "import matplotlib.pyplot as plt\n",
    "import numpy as np\n",
    "import scipy.io as spio\n",
    "\n",
    "datafile = 'mosaicGLM_apricot_ONParasol-1-mat.mat'\n",
    "data = spio.loadmat(datafile)\n",
    "data = data['mosaicGLM'][0]\n",
    "len(data)"
   ]
  },
  {
   "cell_type": "markdown",
   "metadata": {},
   "source": [
    "Now we have the data loaded. The fitted parameters are under the first element (\"linearfilters\") "
   ]
  },
  {
   "cell_type": "code",
   "execution_count": 2,
   "metadata": {},
   "outputs": [
    {
     "data": {
      "text/plain": [
       "4"
      ]
     },
     "execution_count": 2,
     "metadata": {},
     "output_type": "execute_result"
    }
   ],
   "source": [
    "cellnum = 16\n",
    "i = 0\n",
    "len(data[cellnum][0][0][i][0][0])"
   ]
  },
  {
   "cell_type": "markdown",
   "metadata": {},
   "source": [
    "The four elements here are: note + TonicDrive, PostSpike and Stimulus filters.\n",
    "Let's first extract tonic drive."
   ]
  },
  {
   "cell_type": "code",
   "execution_count": 3,
   "metadata": {},
   "outputs": [
    {
     "name": "stdout",
     "output_type": "stream",
     "text": [
      "1.49056970987\n"
     ]
    }
   ],
   "source": [
    "tonicdrive = data[cellnum][0][0][i][0][0][1][0][0][0][0][0]\n",
    "print tonicdrive"
   ]
  },
  {
   "cell_type": "markdown",
   "metadata": {},
   "source": [
    "Let's then see what the postspike filter looks like (there's a refractory period!)"
   ]
  },
  {
   "cell_type": "code",
   "execution_count": 4,
   "metadata": {},
   "outputs": [
    {
     "data": {
      "text/plain": [
       "[<matplotlib.lines.Line2D at 0x8572908>]"
      ]
     },
     "execution_count": 4,
     "metadata": {},
     "output_type": "execute_result"
    },
    {
     "data": {
      "image/png": "[encoded data removed]",
      "text/plain": [
       "<matplotlib.figure.Figure at 0x8300cf8>"
      ]
     },
     "metadata": {},
     "output_type": "display_data"
    }
   ],
   "source": [
    "postspike_filter = data[cellnum][0][0][i][0][0][2][0][0][0]\n",
    "plt.subplots(1,2)\n",
    "plt.subplot(121)\n",
    "plt.title('Postspike filter (raw)')\n",
    "plt.plot(range(len(postspike_filter)), postspike_filter)\n",
    "\n",
    "plt.subplot(122)\n",
    "plt.title('Postspike filter (exponentiated)')\n",
    "plt.plot(range(len(postspike_filter)), np.exp(postspike_filter))"
   ]
  },
  {
   "cell_type": "markdown",
   "metadata": {},
   "source": [
    "The spatiotemporal stimulus filter in this dataset is 13x13 pixels while the whole pixel grid is 80x40. Thus, in addition to extracting filter parameters we need to extract the filter coordinates. Temporal filter goes 15 time bins back (with 120 Hz sampling, 1 bin = 8.333 ms)."
   ]
  },
  {
   "cell_type": "code",
   "execution_count": 5,
   "metadata": {},
   "outputs": [
    {
     "data": {
      "text/plain": [
       "(13L, 13L, 15L)"
      ]
     },
     "execution_count": 5,
     "metadata": {},
     "output_type": "execute_result"
    }
   ],
   "source": [
    "stimulus_filter = data[cellnum][0][0][i][0][0][3][0][0][0]\n",
    "np.shape(stimulus_filter)"
   ]
  },
  {
   "cell_type": "code",
   "execution_count": 6,
   "metadata": {},
   "outputs": [
    {
     "data": {
      "text/plain": [
       "<matplotlib.text.Text at 0xc2ee400>"
      ]
     },
     "execution_count": 6,
     "metadata": {},
     "output_type": "execute_result"
    },
    {
     "data": {
      "image/png": "[encoded data removed]",
      "text/plain": [
       "<matplotlib.figure.Figure at 0xc2a64e0>"
      ]
     },
     "metadata": {},
     "output_type": "display_data"
    }
   ],
   "source": [
    "import seaborn as sns\n",
    "sns.heatmap(stimulus_filter[:,:,1].T, square=True)\n",
    "plt.xlabel('X coord')\n",
    "plt.ylabel('Y coord')"
   ]
  },
  {
   "cell_type": "markdown",
   "metadata": {},
   "source": [
    "Then, we should extract the absolute coordinates"
   ]
  },
  {
   "cell_type": "code",
   "execution_count": 7,
   "metadata": {},
   "outputs": [
    {
     "name": "stdout",
     "output_type": "stream",
     "text": [
      "X center: 57\t Y center: 32\n",
      "X    min: 51\t Y    min: 26\n"
     ]
    }
   ],
   "source": [
    "x_coords = data[cellnum][0][0][i][0][0][3][0][0][4]\n",
    "y_coords = data[cellnum][0][0][i][0][0][3][0][0][5]\n",
    "x_center = np.median(x_coords)\n",
    "x_min = np.min(x_coords)\n",
    "y_center = np.median(y_coords)\n",
    "y_min = np.min(y_coords)\n",
    "print 'X center: %d\\t Y center: %d' % (x_center, y_center)\n",
    "print 'X    min: %s\\t Y    min: %s' % (x_min, y_min)"
   ]
  },
  {
   "cell_type": "markdown",
   "metadata": {},
   "source": [
    "Then the full stimulus filter at t=1 looks like this:"
   ]
  },
  {
   "cell_type": "code",
   "execution_count": 8,
   "metadata": {},
   "outputs": [
    {
     "data": {
      "text/plain": [
       "<matplotlib.axes._subplots.AxesSubplot at 0xc58f780>"
      ]
     },
     "execution_count": 8,
     "metadata": {},
     "output_type": "execute_result"
    },
    {
     "data": {
      "image/png": "[encoded data removed]",
      "text/plain": [
       "<matplotlib.figure.Figure at 0x882dfd0>"
      ]
     },
     "metadata": {},
     "output_type": "display_data"
    }
   ],
   "source": [
    "A = np.zeros((80,40))\n",
    "A[x_min:x_min+13, y_min:y_min+13] = stimulus_filter[:,:,1]\n",
    "sns.heatmap(A.T, square=True)"
   ]
  },
  {
   "cell_type": "markdown",
   "metadata": {},
   "source": [
    "We can also linearize the 13x13-pixel 2D grid to fit time in the same heatmap"
   ]
  },
  {
   "cell_type": "code",
   "execution_count": 9,
   "metadata": {},
   "outputs": [
    {
     "data": {
      "text/plain": [
       "<matplotlib.axes._subplots.AxesSubplot at 0xc8f7fd0>"
      ]
     },
     "execution_count": 9,
     "metadata": {},
     "output_type": "execute_result"
    },
    {
     "data": {
      "image/png": "[encoded data removed]",
      "text/plain": [
       "<matplotlib.figure.Figure at 0xc9102b0>"
      ]
     },
     "metadata": {},
     "output_type": "display_data"
    }
   ],
   "source": [
    "stimulus_filter_1d = np.reshape(stimulus_filter, (13*13, 15))  # 13x13 = 169\n",
    "sns.heatmap(stimulus_filter_1d)"
   ]
  },
  {
   "cell_type": "markdown",
   "metadata": {},
   "source": [
    "Gather data for all cells in the dataset..."
   ]
  },
  {
   "cell_type": "code",
   "execution_count": 10,
   "metadata": {},
   "outputs": [
    {
     "name": "stdout",
     "output_type": "stream",
     "text": [
      "(50L, 3200L, 15L)\n",
      "(120L, 50L, 50L)\n"
     ]
    }
   ],
   "source": [
    "N_cells = 50\n",
    "\n",
    "tonicdrive_all = []\n",
    "stimfilter_all = []\n",
    "postspike_all = np.zeros((120, N_cells, N_cells))  # N_cells-by-N_cells matrix with diag. containing spikehist filt\n",
    "rf_center_all = np.zeros([N_cells,2])\n",
    "rf_sd_xy_all = np.zeros([N_cells,2])\n",
    "rf_rot_all = np.zeros(N_cells)\n",
    "\n",
    "#for cellnum in range(len(data)):\n",
    "for celln in range(N_cells):\n",
    "    tonicdrive = data[celln][0][0][i][0][0][1][0][0][0][0][0]\n",
    "    postspike_filter = data[celln][0][0][i][0][0][2][0][0][0]\n",
    "    stimulus_filter = data[celln][0][0][i][0][0][3][0][0][0]\n",
    "    \n",
    "    x_coords = data[celln][0][0][i][0][0][3][0][0][4]\n",
    "    y_coords = data[celln][0][0][i][0][0][3][0][0][5]\n",
    "    x_center = np.median(x_coords)\n",
    "    x_min = np.min(x_coords)\n",
    "    y_center = np.median(y_coords)\n",
    "    y_min = np.min(y_coords)\n",
    "    \n",
    "    A = np.zeros((81,41,15))  # Padded matrix so that stimulus filter can be inserted without error\n",
    "    A[x_min:x_min+13, y_min:y_min+13, :] = stimulus_filter[:,:,:]\n",
    "    A = A[:80,:40,:]\n",
    "    stimulus_filter_1d = np.reshape(A, (80*40,15))\n",
    "    stimulus_filter_1d = np.fliplr(stimulus_filter_1d)  # Flip over axis 1; In Pillow's code, most recent is last in indexing\n",
    "    \n",
    "    tonicdrive_all.append(tonicdrive)\n",
    "    stimfilter_all.append(stimulus_filter_1d)\n",
    "    postspike_all[:, cellnum, cellnum] = np.array(postspike_filter[:,0])\n",
    "\n",
    "    # Let's still add fitted RF parameters\n",
    "    cellgeom = {'center_x':   data[celln][0][0][3][0][0][0][0][0], \n",
    "                'center_y':   data[celln][0][0][3][0][0][1][0][0], \n",
    "                'sd_x':       data[celln][0][0][3][0][0][2][0][0],\n",
    "                'sd_y':       data[celln][0][0][3][0][0][3][0][0], \n",
    "                'center_rot': data[celln][0][0][3][0][0][4][0][0]}\n",
    "    \n",
    "    rf_center_all[celln] = [cellgeom['center_x'], cellgeom['center_y']]\n",
    "    rf_sd_xy_all[celln] = [cellgeom['sd_x'], cellgeom['sd_y']]\n",
    "    rf_rot_all[celln] = cellgeom['center_rot']\n",
    "    \n",
    "\n",
    "print np.shape(stimfilter_all)\n",
    "print np.shape(postspike_all)"
   ]
  },
  {
   "cell_type": "markdown",
   "metadata": {},
   "source": [
    "Let's finally twist everything into Pillow's format: time first, then pixels in 1d, and cell index last.\n",
    "Then check that everything looks like before."
   ]
  },
  {
   "cell_type": "code",
   "execution_count": 11,
   "metadata": {},
   "outputs": [
    {
     "name": "stdout",
     "output_type": "stream",
     "text": [
      "(15L, 3200L, 50L)\n",
      "(1L, 50L)\n"
     ]
    },
    {
     "data": {
      "text/plain": [
       "<matplotlib.axes._subplots.AxesSubplot at 0xca6f358>"
      ]
     },
     "execution_count": 11,
     "metadata": {},
     "output_type": "execute_result"
    },
    {
     "data": {
      "image/png": "[encoded data removed]",
      "text/plain": [
       "<matplotlib.figure.Figure at 0xbedab70>"
      ]
     },
     "metadata": {},
     "output_type": "display_data"
    }
   ],
   "source": [
    "stimfilter_all = np.transpose(np.array(stimfilter_all))\n",
    "tonicdrive_all = np.reshape(np.array(tonicdrive_all),(1, N_cells))\n",
    "\n",
    "print np.shape(stimfilter_all)\n",
    "print np.shape(tonicdrive_all)\n",
    "\n",
    "sns.heatmap(np.reshape(stimfilter_all[13,:,cellnum], (80, 40)).T, square=True)"
   ]
  },
  {
   "cell_type": "code",
   "execution_count": 12,
   "metadata": {
    "collapsed": true
   },
   "outputs": [],
   "source": [
    "postspike_sampling = np.array([np.arange(0, 12., 0.1)]).T  # Without dot saves as int -> Matlab does rounded division\n",
    "glm_dict = {'glmstruct': {'dc': tonicdrive_all,\n",
    "                          'ih': postspike_all,\n",
    "                          'k': stimfilter_all,\n",
    "                          'iht': postspike_sampling,\n",
    "                          'rf_center': rf_center_all,\n",
    "                          'rf_sd_xy': rf_sd_xy_all,\n",
    "                          'rf_rotation': rf_rot_all}}\n",
    "spio.savemat('apricot_onparasol_ih12_geom.mat', glm_dict)"
   ]
  },
  {
   "cell_type": "code",
   "execution_count": null,
   "metadata": {
    "collapsed": true
   },
   "outputs": [],
   "source": []
  }
 ],
 "metadata": {
  "kernelspec": {
   "display_name": "Python 3",
   "language": "python",
   "name": "python3"
  },
  "language_info": {
   "codemirror_mode": {
    "name": "ipython",
    "version": 3
   },
   "file_extension": ".py",
   "mimetype": "text/x-python",
   "name": "python",
   "nbconvert_exporter": "python",
   "pygments_lexer": "ipython3",
   "version": "3.7.1"
  }
 },
 "nbformat": 4,
 "nbformat_minor": 1
}
