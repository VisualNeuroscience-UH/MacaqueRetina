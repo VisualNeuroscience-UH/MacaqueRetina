{
 "cells": [
  {
   "cell_type": "markdown",
   "metadata": {},
   "source": [
    "# 2. Apricot dataset -> Pillow's format"
   ]
  },
  {
   "cell_type": "markdown",
   "metadata": {},
   "source": [
    "Here we manipulate the apricot dataset into a more concise form (\"Pillow's format\")"
   ]
  },
  {
   "cell_type": "code",
   "execution_count": 2,
   "metadata": {},
   "outputs": [
    {
     "data": {
      "text/plain": [
       "94"
      ]
     },
     "execution_count": 2,
     "metadata": {},
     "output_type": "execute_result"
    }
   ],
   "source": [
    "%matplotlib inline\n",
    "import matplotlib.pyplot as plt\n",
    "import numpy as np\n",
    "import scipy.io as spio\n",
    "\n",
    "datafile = 'mosaicGLM_apricot_ONParasol-1-mat.mat'\n",
    "data = spio.loadmat(datafile)\n",
    "data = data['mosaicGLM'][0]\n",
    "len(data)"
   ]
  },
  {
   "cell_type": "markdown",
   "metadata": {},
   "source": [
    "Now we have the data loaded. The fitted parameters are under the first element (\"linearfilters\") "
   ]
  },
  {
   "cell_type": "code",
   "execution_count": 3,
   "metadata": {},
   "outputs": [
    {
     "data": {
      "text/plain": [
       "4"
      ]
     },
     "execution_count": 3,
     "metadata": {},
     "output_type": "execute_result"
    }
   ],
   "source": [
    "cellnum = 16\n",
    "i = 0\n",
    "len(data[cellnum][0][0][i][0][0])"
   ]
  },
  {
   "cell_type": "markdown",
   "metadata": {},
   "source": [
    "The four elements here are: note + TonicDrive, PostSpike and Stimulus filters.\n",
    "Let's first extract tonic drive."
   ]
  },
  {
   "cell_type": "code",
   "execution_count": 4,
   "metadata": {},
   "outputs": [
    {
     "name": "stdout",
     "output_type": "stream",
     "text": [
      "1.4905697098654305\n"
     ]
    }
   ],
   "source": [
    "tonicdrive = data[cellnum][0][0][i][0][0][1][0][0][0][0][0]\n",
    "print (tonicdrive)"
   ]
  },
  {
   "cell_type": "markdown",
   "metadata": {},
   "source": [
    "Let's then see what the postspike filter looks like (there's a refractory period!)"
   ]
  },
  {
   "cell_type": "code",
   "execution_count": 5,
   "metadata": {},
   "outputs": [
    {
     "data": {
      "text/plain": [
       "[<matplotlib.lines.Line2D at 0x7fe5c76789b0>]"
      ]
     },
     "execution_count": 5,
     "metadata": {},
     "output_type": "execute_result"
    },
    {
     "data": {
      "image/png": "[encoded data removed]",
      "text/plain": [
       "<Figure size 432x288 with 2 Axes>"
      ]
     },
     "metadata": {
      "needs_background": "light"
     },
     "output_type": "display_data"
    }
   ],
   "source": [
    "postspike_filter = data[cellnum][0][0][i][0][0][2][0][0][0]\n",
    "plt.subplots(1,2)\n",
    "plt.subplot(121)\n",
    "plt.title('Postspike filter (raw)')\n",
    "plt.plot(range(len(postspike_filter)), postspike_filter)\n",
    "\n",
    "plt.subplot(122)\n",
    "plt.title('Postspike filter (exponentiated)')\n",
    "plt.plot(range(len(postspike_filter)), np.exp(postspike_filter))"
   ]
  },
  {
   "cell_type": "code",
   "execution_count": 6,
   "metadata": {},
   "outputs": [
    {
     "data": {
      "text/plain": [
       "120"
      ]
     },
     "execution_count": 6,
     "metadata": {},
     "output_type": "execute_result"
    }
   ],
   "source": [
    "len(postspike_filter)"
   ]
  },
  {
   "cell_type": "markdown",
   "metadata": {},
   "source": [
    "The spatiotemporal stimulus filter in this dataset is 13x13 pixels while the whole pixel grid is 80x40. Thus, in addition to extracting filter parameters we need to extract the filter coordinates. Temporal filter goes 15 time bins back (with 120 Hz sampling, 1 bin = 8.333 ms)."
   ]
  },
  {
   "cell_type": "code",
   "execution_count": 5,
   "metadata": {},
   "outputs": [
    {
     "data": {
      "text/plain": [
       "(13, 13, 15)"
      ]
     },
     "execution_count": 5,
     "metadata": {},
     "output_type": "execute_result"
    }
   ],
   "source": [
    "stimulus_filter = data[cellnum][0][0][i][0][0][3][0][0][0]\n",
    "np.shape(stimulus_filter)"
   ]
  },
  {
   "cell_type": "code",
   "execution_count": 6,
   "metadata": {},
   "outputs": [
    {
     "data": {
      "text/plain": [
       "Text(83.40000000000006, 0.5, 'Y coord')"
      ]
     },
     "execution_count": 6,
     "metadata": {},
     "output_type": "execute_result"
    },
    {
     "data": {
      "image/png": "[encoded data removed]",
      "text/plain": [
       "<Figure size 432x288 with 2 Axes>"
      ]
     },
     "metadata": {
      "needs_background": "light"
     },
     "output_type": "display_data"
    }
   ],
   "source": [
    "import seaborn as sns\n",
    "sns.heatmap(stimulus_filter[:,:,1].T, square=True)\n",
    "plt.xlabel('X coord')\n",
    "plt.ylabel('Y coord')"
   ]
  },
  {
   "cell_type": "code",
   "execution_count": 19,
   "metadata": {},
   "outputs": [
    {
     "name": "stdout",
     "output_type": "stream",
     "text": [
      "0.8693329\n",
      "1.3298817\n",
      "1.2342873\n",
      "1.1769547\n",
      "0.9866605\n",
      "0.7839391\n",
      "1.2872746\n",
      "1.035092\n",
      "1.7054187\n",
      "1.0736085\n",
      "0.97991705\n",
      "0.97013474\n",
      "1.2593268\n",
      "1.3422205\n",
      "2.0412974\n",
      "0.0074509755\n",
      "0.84048605\n",
      "2.489573\n",
      "1.1320868\n",
      "1.2453127\n",
      "1.8085959\n",
      "1.8130305\n",
      "2.0427427\n",
      "2.10166\n",
      "2.0038104\n",
      "0.17880318\n",
      "1.61614\n",
      "1.378596\n",
      "1.1111376\n",
      "2.8536355\n",
      "1.1095793\n",
      "0.80752665\n",
      "1.372632\n",
      "-0.20312896\n",
      "2.4348683\n",
      "1.4579743\n",
      "1.2495863\n",
      "1.9266791\n",
      "1.7003129\n",
      "0.7174282\n",
      "1.8684919\n",
      "1.0601969\n",
      "1.705535\n",
      "1.5675039\n",
      "0.85028744\n",
      "1.005335\n",
      "0.888909\n",
      "1.5374839\n",
      "1.3513904\n",
      "1.134118\n",
      "2.5333362\n",
      "1.2139137\n",
      "1.7719052\n",
      "0.9482969\n",
      "1.600466\n",
      "2.0618787\n",
      "1.2480575\n",
      "1.168741\n",
      "1.4865236\n",
      "1.1900058\n",
      "1.346952\n",
      "2.1534827\n",
      "1.0531203\n",
      "1.2886028\n",
      "1.8922021\n",
      "1.074389\n",
      "1.9937592\n",
      "0.46127725\n",
      "1.6055183\n",
      "1.3935115\n",
      "1.3295218\n",
      "0.50361156\n",
      "0.8771434\n",
      "2.0163512\n",
      "1.0184712\n",
      "1.2871268\n",
      "1.4753951\n",
      "1.6612642\n",
      "1.3107225\n",
      "1.3980806\n",
      "1.5169575\n",
      "1.1410141\n",
      "1.3291552\n",
      "0.8765434\n",
      "1.1235126\n",
      "0.5473813\n",
      "-0.12440623\n",
      "1.0181215\n",
      "1.4781319\n",
      "-0.009463038\n",
      "1.0023762\n",
      "0.76123303\n",
      "1.5005182\n",
      "1.3970039\n"
     ]
    }
   ],
   "source": [
    "all_filters = [data[n][0][0][i][0][0][3][0][0][0] for n in range(94)]\n",
    "\n",
    "for k in range(len(all_filters)):\n",
    "    print(np.sum(all_filters[k]))"
   ]
  },
  {
   "cell_type": "markdown",
   "metadata": {},
   "source": [
    "Then, we should extract the absolute coordinates"
   ]
  },
  {
   "cell_type": "code",
   "execution_count": 7,
   "metadata": {},
   "outputs": [
    {
     "name": "stdout",
     "output_type": "stream",
     "text": [
      "X center: 57\t Y center: 32\n",
      "X    min: 51\t Y    min: 26\n"
     ]
    }
   ],
   "source": [
    "x_coords = data[cellnum][0][0][i][0][0][3][0][0][4]\n",
    "y_coords = data[cellnum][0][0][i][0][0][3][0][0][5]\n",
    "x_center = np.median(x_coords)\n",
    "x_min = np.min(x_coords)\n",
    "y_center = np.median(y_coords)\n",
    "y_min = np.min(y_coords)\n",
    "print ('X center: %d\\t Y center: %d' % (x_center, y_center))\n",
    "print ('X    min: %s\\t Y    min: %s' % (x_min, y_min))"
   ]
  },
  {
   "cell_type": "markdown",
   "metadata": {},
   "source": [
    "Then the full stimulus filter at t=1 looks like this:"
   ]
  },
  {
   "cell_type": "code",
   "execution_count": 8,
   "metadata": {},
   "outputs": [
    {
     "data": {
      "text/plain": [
       "<matplotlib.axes._subplots.AxesSubplot at 0x7fcbc1112518>"
      ]
     },
     "execution_count": 8,
     "metadata": {},
     "output_type": "execute_result"
    },
    {
     "data": {
      "image/png": "[encoded data removed]",
      "text/plain": [
       "<Figure size 432x288 with 2 Axes>"
      ]
     },
     "metadata": {
      "needs_background": "light"
     },
     "output_type": "display_data"
    }
   ],
   "source": [
    "A = np.zeros((80,40))\n",
    "A[x_min:x_min+13, y_min:y_min+13] = stimulus_filter[:,:,1]\n",
    "sns.heatmap(A.T, square=True)"
   ]
  },
  {
   "cell_type": "markdown",
   "metadata": {},
   "source": [
    "We can also linearize the 13x13-pixel 2D grid to fit time in the same heatmap"
   ]
  },
  {
   "cell_type": "code",
   "execution_count": 9,
   "metadata": {},
   "outputs": [
    {
     "data": {
      "text/plain": [
       "<matplotlib.axes._subplots.AxesSubplot at 0x7fcbc1071588>"
      ]
     },
     "execution_count": 9,
     "metadata": {},
     "output_type": "execute_result"
    },
    {
     "data": {
      "image/png": "[encoded data removed]",
      "text/plain": [
       "<Figure size 432x288 with 2 Axes>"
      ]
     },
     "metadata": {
      "needs_background": "light"
     },
     "output_type": "display_data"
    }
   ],
   "source": [
    "stimulus_filter_1d = np.reshape(stimulus_filter, (13*13, 15))  # 13x13 = 169\n",
    "sns.heatmap(stimulus_filter_1d)"
   ]
  },
  {
   "cell_type": "code",
   "execution_count": 13,
   "metadata": {},
   "outputs": [
    {
     "data": {
      "text/plain": [
       "1.1341188428169593"
      ]
     },
     "execution_count": 13,
     "metadata": {},
     "output_type": "execute_result"
    }
   ],
   "source": [
    "np.sum(stimulus_filter_1d)"
   ]
  },
  {
   "cell_type": "markdown",
   "metadata": {},
   "source": [
    "Gather data for all cells in the dataset..."
   ]
  },
  {
   "cell_type": "code",
   "execution_count": 10,
   "metadata": {},
   "outputs": [
    {
     "name": "stdout",
     "output_type": "stream",
     "text": [
      "(50, 3200, 15)\n",
      "(120, 50, 50)\n"
     ]
    }
   ],
   "source": [
    "N_cells = 50\n",
    "\n",
    "tonicdrive_all = []\n",
    "stimfilter_all = []\n",
    "postspike_all = np.zeros((120, N_cells, N_cells))  # N_cells-by-N_cells matrix with diag. containing spikehist filt\n",
    "rf_center_all = np.zeros([N_cells,2])\n",
    "rf_sd_xy_all = np.zeros([N_cells,2])\n",
    "rf_rot_all = np.zeros(N_cells)\n",
    "\n",
    "#for cellnum in range(len(data)):\n",
    "for celln in range(N_cells):\n",
    "    tonicdrive = data[celln][0][0][i][0][0][1][0][0][0][0][0]\n",
    "    postspike_filter = data[celln][0][0][i][0][0][2][0][0][0]\n",
    "    stimulus_filter = data[celln][0][0][i][0][0][3][0][0][0]\n",
    "    \n",
    "    x_coords = data[celln][0][0][i][0][0][3][0][0][4]\n",
    "    y_coords = data[celln][0][0][i][0][0][3][0][0][5]\n",
    "    x_center = np.median(x_coords)\n",
    "    x_min = np.min(x_coords)\n",
    "    y_center = np.median(y_coords)\n",
    "    y_min = np.min(y_coords)\n",
    "    \n",
    "    A = np.zeros((81,41,15))  # Padded matrix so that stimulus filter can be inserted without error\n",
    "    A[x_min:x_min+13, y_min:y_min+13, :] = stimulus_filter[:,:,:]\n",
    "    A = A[:80,:40,:]\n",
    "    stimulus_filter_1d = np.reshape(A, (80*40,15))\n",
    "    stimulus_filter_1d = np.fliplr(stimulus_filter_1d)  # Flip over axis 1; In Pillow's code, most recent is last in indexing\n",
    "    \n",
    "    tonicdrive_all.append(tonicdrive)\n",
    "    stimfilter_all.append(stimulus_filter_1d)\n",
    "    postspike_all[:, cellnum, cellnum] = np.array(postspike_filter[:,0])\n",
    "\n",
    "    # Let's still add fitted RF parameters\n",
    "    cellgeom = {'center_x':   data[celln][0][0][3][0][0][0][0][0], \n",
    "                'center_y':   data[celln][0][0][3][0][0][1][0][0], \n",
    "                'sd_x':       data[celln][0][0][3][0][0][2][0][0],\n",
    "                'sd_y':       data[celln][0][0][3][0][0][3][0][0], \n",
    "                'center_rot': data[celln][0][0][3][0][0][4][0][0]}\n",
    "    \n",
    "    rf_center_all[celln] = [cellgeom['center_x'], cellgeom['center_y']]\n",
    "    rf_sd_xy_all[celln] = [cellgeom['sd_x'], cellgeom['sd_y']]\n",
    "    rf_rot_all[celln] = cellgeom['center_rot']\n",
    "    \n",
    "\n",
    "print (np.shape(stimfilter_all))\n",
    "print (np.shape(postspike_all))"
   ]
  },
  {
   "cell_type": "markdown",
   "metadata": {},
   "source": [
    "Let's finally twist everything into Pillow's format: time first, then pixels in 1d, and cell index last.\n",
    "Then check that everything looks like before."
   ]
  },
  {
   "cell_type": "code",
   "execution_count": 11,
   "metadata": {},
   "outputs": [
    {
     "name": "stdout",
     "output_type": "stream",
     "text": [
      "(15, 3200, 50)\n",
      "(1, 50)\n"
     ]
    },
    {
     "data": {
      "text/plain": [
       "<matplotlib.axes._subplots.AxesSubplot at 0x7fcbc0f15860>"
      ]
     },
     "execution_count": 11,
     "metadata": {},
     "output_type": "execute_result"
    },
    {
     "data": {
      "image/png": "[encoded data removed]",
      "text/plain": [
       "<Figure size 432x288 with 2 Axes>"
      ]
     },
     "metadata": {
      "needs_background": "light"
     },
     "output_type": "display_data"
    }
   ],
   "source": [
    "stimfilter_all = np.transpose(np.array(stimfilter_all))\n",
    "tonicdrive_all = np.reshape(np.array(tonicdrive_all),(1, N_cells))\n",
    "\n",
    "print (np.shape(stimfilter_all))\n",
    "print (np.shape(tonicdrive_all))\n",
    "\n",
    "sns.heatmap(np.reshape(stimfilter_all[13,:,cellnum], (80, 40)).T, square=True)"
   ]
  },
  {
   "cell_type": "code",
   "execution_count": 12,
   "metadata": {},
   "outputs": [],
   "source": [
    "postspike_sampling = np.array([np.arange(0, 12., 0.1)]).T  # Without dot saves as int -> Matlab does rounded division\n",
    "glm_dict = {'glmstruct': {'dc': tonicdrive_all,\n",
    "                          'ih': postspike_all,\n",
    "                          'k': stimfilter_all,\n",
    "                          'iht': postspike_sampling,\n",
    "                          'rf_center': rf_center_all,\n",
    "                          'rf_sd_xy': rf_sd_xy_all,\n",
    "                          'rf_rotation': rf_rot_all}}\n",
    "spio.savemat('apricot_onparasol_ih12_geom.mat', glm_dict)"
   ]
  },
  {
   "cell_type": "code",
   "execution_count": null,
   "metadata": {},
   "outputs": [],
   "source": []
  }
 ],
 "metadata": {
  "kernelspec": {
   "display_name": "Python 3",
   "language": "python",
   "name": "python3"
  },
  "language_info": {
   "codemirror_mode": {
    "name": "ipython",
    "version": 3
   },
   "file_extension": ".py",
   "mimetype": "text/x-python",
   "name": "python",
   "nbconvert_exporter": "python",
   "pygments_lexer": "ipython3",
   "version": "3.10.5"
  }
 },
 "nbformat": 4,
 "nbformat_minor": 1
}
